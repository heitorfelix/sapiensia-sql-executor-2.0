{
 "cells": [
  {
   "cell_type": "markdown",
   "id": "e311ace9",
   "metadata": {},
   "source": [
    "### Tela inicial\n",
    "* Campos para as credenciais\n",
    "* Teste de conexão\n",
    "* Log no cache das credenciais\n",
    "\n",
    "\n",
    "### Menu de SELECT\n",
    "* Lista com todos os bancos para selecionar\n",
    "* Campo para a query e botão de submit\n",
    "* Retorna grid com o resultado da query + db_name\n",
    "\n",
    "\n",
    "### Menu de DDL\n",
    "* Lista com todos os bancos para selecionar\n",
    "* Campo para a query e botão de submit\n",
    "* Retorna os resultados escritos nome do banco + output"
   ]
  },
  {
   "cell_type": "code",
   "execution_count": 36,
   "id": "868d1749",
   "metadata": {
    "ExecuteTime": {
     "end_time": "2023-04-19T00:34:08.776005Z",
     "start_time": "2023-04-19T00:34:08.762926Z"
    }
   },
   "outputs": [],
   "source": [
    "import pyodbc"
   ]
  },
  {
   "cell_type": "code",
   "execution_count": null,
   "id": "f62694f6",
   "metadata": {},
   "outputs": [],
   "source": []
  },
  {
   "cell_type": "code",
   "execution_count": 34,
   "id": "4221ae76",
   "metadata": {
    "ExecuteTime": {
     "end_time": "2023-04-18T22:17:23.653399Z",
     "start_time": "2023-04-18T22:17:23.641968Z"
    }
   },
   "outputs": [],
   "source": [
    "def test_azure_connection(server, database):\n",
    "    try:\n",
    "\n",
    "        conn_str = 'DRIVER={SQL Server Native Client 11.0};SERVER='+server+';DATABASE='+database+';Trusted_Connection=yes;'\n",
    "\n",
    "        with pyodbc.connect(conn_str) as conn:\n",
    "            cursor = conn.cursor()\n",
    "            cursor.execute(\"SELECT @@SERVERNAME\")\n",
    "            cursor.fetchone()\n",
    "        return True\n",
    "    except pyodbc.Error:\n",
    "        return False"
   ]
  },
  {
   "cell_type": "code",
   "execution_count": 35,
   "id": "a68b39bb",
   "metadata": {
    "ExecuteTime": {
     "end_time": "2023-04-18T22:17:23.763708Z",
     "start_time": "2023-04-18T22:17:23.738371Z"
    }
   },
   "outputs": [
    {
     "data": {
      "text/plain": [
       "True"
      ]
     },
     "execution_count": 35,
     "metadata": {},
     "output_type": "execute_result"
    }
   ],
   "source": [
    "test_azure_connection('HEITOR', 'AdventureWorks2019')"
   ]
  },
  {
   "cell_type": "code",
   "execution_count": 13,
   "id": "9bdc8a3c",
   "metadata": {
    "ExecuteTime": {
     "end_time": "2023-04-18T22:13:21.885787Z",
     "start_time": "2023-04-18T22:12:47.758318Z"
    }
   },
   "outputs": [
    {
     "ename": "OperationalError",
     "evalue": "('08001', '[08001] [Microsoft][ODBC SQL Server Driver][DBNETLIB]SQL Server inexistente ou acesso negado. (17) (SQLDriverConnect); [08001] [Microsoft][ODBC SQL Server Driver][DBNETLIB]ConnectionOpen (Connect()). (5)')",
     "output_type": "error",
     "traceback": [
      "\u001b[1;31m---------------------------------------------------------------------------\u001b[0m",
      "\u001b[1;31mOperationalError\u001b[0m                          Traceback (most recent call last)",
      "\u001b[1;32m~\\AppData\\Local\\Temp\\ipykernel_15180\\2763560187.py\u001b[0m in \u001b[0;36m<module>\u001b[1;34m\u001b[0m\n\u001b[0;32m      1\u001b[0m \u001b[1;32mimport\u001b[0m \u001b[0mpyodbc\u001b[0m\u001b[1;33m\u001b[0m\u001b[1;33m\u001b[0m\u001b[0m\n\u001b[0;32m      2\u001b[0m \u001b[1;33m\u001b[0m\u001b[0m\n\u001b[1;32m----> 3\u001b[1;33m \u001b[0mconn\u001b[0m \u001b[1;33m=\u001b[0m \u001b[0mpyodbc\u001b[0m\u001b[1;33m.\u001b[0m\u001b[0mconnect\u001b[0m\u001b[1;33m(\u001b[0m\u001b[1;34m'DRIVER={SQL Server};SERVER=localhost;DATABASE=master;Trusted_Connection=yes;'\u001b[0m\u001b[1;33m)\u001b[0m\u001b[1;33m\u001b[0m\u001b[1;33m\u001b[0m\u001b[0m\n\u001b[0m\u001b[0;32m      4\u001b[0m \u001b[0mcursor\u001b[0m \u001b[1;33m=\u001b[0m \u001b[0mconn\u001b[0m\u001b[1;33m.\u001b[0m\u001b[0mcursor\u001b[0m\u001b[1;33m(\u001b[0m\u001b[1;33m)\u001b[0m\u001b[1;33m\u001b[0m\u001b[1;33m\u001b[0m\u001b[0m\n\u001b[0;32m      5\u001b[0m \u001b[1;33m\u001b[0m\u001b[0m\n",
      "\u001b[1;31mOperationalError\u001b[0m: ('08001', '[08001] [Microsoft][ODBC SQL Server Driver][DBNETLIB]SQL Server inexistente ou acesso negado. (17) (SQLDriverConnect); [08001] [Microsoft][ODBC SQL Server Driver][DBNETLIB]ConnectionOpen (Connect()). (5)')"
     ]
    }
   ],
   "source": [
    "import pyodbc\n",
    "\n",
    "conn = pyodbc.connect('DRIVER={SQL Server};SERVER=localhost;DATABASE=master;Trusted_Connection=yes;')\n",
    "cursor = conn.cursor()\n",
    "\n",
    "sql_server_name = cursor.execute(\"SELECT @@SERVERNAME\").fetchval()\n",
    "print(f\"O nome do servidor local do SQL Server é {sql_server_name}.\")"
   ]
  }
 ],
 "metadata": {
  "kernelspec": {
   "display_name": "Python 3 (ipykernel)",
   "language": "python",
   "name": "python3"
  },
  "language_info": {
   "codemirror_mode": {
    "name": "ipython",
    "version": 3
   },
   "file_extension": ".py",
   "mimetype": "text/x-python",
   "name": "python",
   "nbconvert_exporter": "python",
   "pygments_lexer": "ipython3",
   "version": "3.9.13"
  }
 },
 "nbformat": 4,
 "nbformat_minor": 5
}
