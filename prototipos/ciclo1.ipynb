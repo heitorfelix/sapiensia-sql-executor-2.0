{
 "cells": [
  {
   "cell_type": "markdown",
   "id": "e311ace9",
   "metadata": {},
   "source": [
    "### Tela inicial\n",
    "* Campos para as credenciais\n",
    "* Teste de conexão\n",
    "* Log no cache das credenciais\n",
    "\n",
    "\n",
    "### Menu de SELECT\n",
    "* Lista com todos os bancos para selecionar\n",
    "* Campo para a query e botão de submit\n",
    "* Retorna grid com o resultado da query + db_name\n",
    "\n",
    "\n",
    "### Menu de DDL\n",
    "* Lista com todos os bancos para selecionar\n",
    "* Campo para a query e botão de submit\n",
    "* Retorna os resultados escritos nome do banco + output"
   ]
  },
  {
   "cell_type": "code",
   "execution_count": 6,
   "id": "868d1749",
   "metadata": {
    "ExecuteTime": {
     "end_time": "2023-04-19T18:35:32.626593Z",
     "start_time": "2023-04-19T18:35:32.610868Z"
    }
   },
   "outputs": [],
   "source": [
    "import pyodbc\n",
    "from pyodbc import ProgrammingError\n",
    "import time "
   ]
  },
  {
   "cell_type": "code",
   "execution_count": 11,
   "id": "4221ae76",
   "metadata": {
    "ExecuteTime": {
     "end_time": "2023-04-19T18:37:46.674520Z",
     "start_time": "2023-04-19T18:37:34.609269Z"
    }
   },
   "outputs": [
    {
     "name": "stdout",
     "output_type": "stream",
     "text": [
      "['AdventureWorks2019', 'Mart', 'teste1', 'teste2', 'teste3', 'teste4']\n",
      "DRIVER={SQL Server Native Client 11.0};SERVER=Heitor;DATABASE=Mart;Trusted_Connection=yes;\n",
      "Database: Mart\n",
      "Result: ('42S01', \"[42S01] [Microsoft][SQL Server Native Client 11.0][SQL Server]Já existe um objeto com nome 'teste' no banco de dados. (2714) (SQLExecDirectW)\")\n",
      "n\n",
      "\n",
      "\n",
      "\n",
      "DRIVER={SQL Server Native Client 11.0};SERVER=Heitor;DATABASE=teste1;Trusted_Connection=yes;\n",
      "Database: teste1\n",
      "Result: ('42S01', \"[42S01] [Microsoft][SQL Server Native Client 11.0][SQL Server]Já existe um objeto com nome 'teste' no banco de dados. (2714) (SQLExecDirectW)\")\n",
      "DRIVER={SQL Server Native Client 11.0};SERVER=Heitor;DATABASE=teste2;Trusted_Connection=yes;\n",
      "Database: teste2\n",
      "Result: ('42S01', \"[42S01] [Microsoft][SQL Server Native Client 11.0][SQL Server]Já existe um objeto com nome 'teste' no banco de dados. (2714) (SQLExecDirectW)\")\n",
      "DRIVER={SQL Server Native Client 11.0};SERVER=Heitor;DATABASE=teste3;Trusted_Connection=yes;\n",
      "Database: teste3\n",
      "Result: ('42S01', \"[42S01] [Microsoft][SQL Server Native Client 11.0][SQL Server]Já existe um objeto com nome 'teste' no banco de dados. (2714) (SQLExecDirectW)\")\n",
      "DRIVER={SQL Server Native Client 11.0};SERVER=Heitor;DATABASE=teste4;Trusted_Connection=yes;\n",
      "Database: teste4\n",
      "Result: ('42S01', \"[42S01] [Microsoft][SQL Server Native Client 11.0][SQL Server]Já existe um objeto com nome 'teste' no banco de dados. (2714) (SQLExecDirectW)\")\n"
     ]
    }
   ],
   "source": [
    "class Conexao:\n",
    "\n",
    "    def __init__(self, server, database = 'master', user = None, password = None):\n",
    "        self.server = server\n",
    "        self.database = database\n",
    "        self.user = user\n",
    "        self.password = password\n",
    "        \n",
    "    def test_azure_connection(self):\n",
    "        if self.user is not None and self.password is not None:\n",
    "            conn_str = (\n",
    "            \"DRIVER={ODBC Driver 17 for SQL Server};\"\n",
    "            f\"SERVER={server};DATABASE={self.database};UID={self.user};PWD={self.password};\"\n",
    "            )\n",
    "            \n",
    "        elif not self.user and not self.password:\n",
    "            conn_str = 'DRIVER={SQL Server Native Client 11.0};SERVER='+self.server+';DATABASE='+self.database+';Trusted_Connection=yes;'\n",
    "\n",
    "        try:\n",
    "            with pyodbc.connect(conn_str) as conn:\n",
    "                cursor = conn.cursor()\n",
    "                cursor.execute(\"SELECT @@SERVERNAME\")\n",
    "                cursor.fetchone()\n",
    "                \n",
    "            self.conn_str = conn_str\n",
    "            return True\n",
    "        \n",
    "        except pyodbc.Error as e:\n",
    "            print(e)\n",
    "            return False\n",
    "\n",
    "    def list_databases(self):\n",
    "\n",
    "\n",
    "        query = \"\"\"select [name] \n",
    "        from sys.databases\n",
    "        where name not in ('master','tempdb','model','msdb')\n",
    "        order by [name]\"\"\"\n",
    "\n",
    "        try:\n",
    "            with pyodbc.connect(self.conn_str) as conn:\n",
    "                cursor = conn.cursor()\n",
    "                cursor.execute(query)\n",
    "                results = cursor.fetchall()\n",
    "                results = [result[0] for result in results]\n",
    "                print(results)\n",
    "            return results \n",
    "        \n",
    "        except Exception as e:\n",
    "            print(str(e))\n",
    "    \n",
    "    \n",
    "\n",
    "    def execute_query(self, database, query):\n",
    "\n",
    "        # Estabelecer a conexão com o banco\n",
    "        conn_str = self.conn_str.replace(self.database, database)\n",
    "        conn = pyodbc.connect(conn_str)\n",
    "        print(conn_str)\n",
    "        # Executar a consulta para obter o nome do banco\n",
    "        cursor = conn.cursor()\n",
    "        cursor.execute(\"SELECT DB_NAME()\")\n",
    "\n",
    "        # Obter o nome do banco\n",
    "        db_name = cursor.fetchone()[0]\n",
    "        \n",
    "        try:\n",
    "            # Executar a consulta principal\n",
    "            cursor.execute(query)\n",
    "            cursor.commit()\n",
    "\n",
    "            # Obter o resultado da consulta\n",
    "            result = 'Consulta realizada'\n",
    "           \n",
    "        except ProgrammingError as e:\n",
    "            result = str(e)\n",
    "            \n",
    "        # Fechar a conexão com o banco\n",
    "        conn.close()\n",
    "\n",
    "        # Retornar o nome do banco e o resultado da consulta\n",
    "        return db_name, result\n",
    "\n",
    "    \n",
    "    def execute_query_in_databases(self, databases, query):\n",
    "        \n",
    "        for database in databases:\n",
    "            db_name, result = self.execute_query(database, query)\n",
    "            print('Database:', db_name)\n",
    "            print('Result:', result)\n",
    "            time.sleep(3)\n",
    "\n",
    "banco = Conexao('Heitor')\n",
    "banco.test_azure_connection()\n",
    "banco.list_databases()\n",
    "query = \"CREATE TABLE teste (codigo int)\"\n",
    "db_name, result = banco.execute_query('Mart', query)\n",
    "print('Database:', db_name)\n",
    "print('Result:', result)\n",
    "print('n\\n\\n\\n')\n",
    "\n",
    "\n",
    "selected_databases = ['teste1', 'teste2', 'teste3', 'teste4']\n",
    "query = \"CREATE TABLE teste (codigo int)\"\n",
    "banco.execute_query_in_databases(selected_databases, query)"
   ]
  },
  {
   "cell_type": "code",
   "execution_count": 25,
   "id": "b4e066e0",
   "metadata": {
    "ExecuteTime": {
     "end_time": "2023-04-19T17:42:36.657284Z",
     "start_time": "2023-04-19T17:42:36.643027Z"
    }
   },
   "outputs": [
    {
     "data": {
      "text/plain": [
       "'DRIVER={SQL Server Native Client 11.0};SERVER=Heitor;DATABASE=master;Trusted_Connection=yes;'"
      ]
     },
     "execution_count": 25,
     "metadata": {},
     "output_type": "execute_result"
    }
   ],
   "source": []
  },
  {
   "cell_type": "code",
   "execution_count": null,
   "id": "7b62539b",
   "metadata": {},
   "outputs": [],
   "source": []
  }
 ],
 "metadata": {
  "kernelspec": {
   "display_name": "Python 3 (ipykernel)",
   "language": "python",
   "name": "python3"
  },
  "language_info": {
   "codemirror_mode": {
    "name": "ipython",
    "version": 3
   },
   "file_extension": ".py",
   "mimetype": "text/x-python",
   "name": "python",
   "nbconvert_exporter": "python",
   "pygments_lexer": "ipython3",
   "version": "3.10.11"
  }
 },
 "nbformat": 4,
 "nbformat_minor": 5
}
